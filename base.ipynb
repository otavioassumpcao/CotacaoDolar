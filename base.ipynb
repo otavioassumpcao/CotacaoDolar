{
 "cells": [
  {
   "cell_type": "code",
   "execution_count": 1,
   "metadata": {},
   "outputs": [
    {
     "name": "stdout",
     "output_type": "stream",
     "text": [
      "         Data  Cotacao  Variacao\n",
      "0  2023-11-03    4.890    -2.558\n",
      "1  2023-11-01    5.019    -0.753\n",
      "2  2023-10-31    5.057     1.001\n",
      "3  2023-10-30    5.007     1.201\n",
      "4  2023-10-27    4.947    -1.149\n"
     ]
    }
   ],
   "source": [
    "import pandas as pd\n",
    "import sqlite3\n",
    "\n",
    "# Lê o arquivo CSV usando ';' como delimitador e ',' como separador decimal\n",
    "df = pd.read_csv('Cotacao_Dolar_Serie_Historica.csv', delimiter=';', decimal=',')\n",
    "\n",
    "# Converte a coluna 'Data' para datetime e remove a hora\n",
    "df['Data'] = pd.to_datetime(df['Data']).dt.date\n",
    "\n",
    "# Converte a coluna 'Variacao' para numérico (assumindo que já está no formato correto com decimal=',')\n",
    "df['Variacao'] = pd.to_numeric(df['Variacao'].str.replace(',', '.'), errors='coerce')\n",
    "\n",
    "# Imprime as primeiras linhas do dataframe para verificação\n",
    "print(df.head())\n",
    "\n",
    "# Conecta ao banco de dados SQLite\n",
    "conn = sqlite3.connect('cotacoes_dolar.db')\n",
    "\n",
    "# Escreve os dados no banco de dados SQLite, o tipo dos dados será inferido do DataFrame\n",
    "df.to_sql('cotacoes', conn, if_exists='replace', index=False)\n",
    "\n",
    "# Fecha a conexão com o banco de dados\n",
    "conn.close()\n"
   ]
  },
  {
   "cell_type": "code",
   "execution_count": 2,
   "metadata": {},
   "outputs": [
    {
     "name": "stdout",
     "output_type": "stream",
     "text": [
      "(0, 'Data', 'DATE', 0, None, 0)\n",
      "(1, 'Cotacao', 'REAL', 0, None, 0)\n",
      "(2, 'Variacao', 'REAL', 0, None, 0)\n"
     ]
    }
   ],
   "source": [
    "# Conecta ao banco de dados SQLite\n",
    "conn = sqlite3.connect('cotacoes_dolar.db')\n",
    "\n",
    "# Cursor para executar comandos no banco de dados\n",
    "cur = conn.cursor()\n",
    "\n",
    "# Executa um comando para recuperar o esquema da tabela 'cotacoes'\n",
    "cur.execute(\"PRAGMA table_info(cotacoes);\")\n",
    "\n",
    "# Recupera e imprime as informações de cada coluna\n",
    "rows = cur.fetchall()\n",
    "for row in rows:\n",
    "    print(row)\n",
    "\n",
    "# Fecha a conexão com o banco de dados\n",
    "conn.close()"
   ]
  }
 ],
 "metadata": {
  "kernelspec": {
   "display_name": "cotacaodolar",
   "language": "python",
   "name": "python3"
  },
  "language_info": {
   "codemirror_mode": {
    "name": "ipython",
    "version": 3
   },
   "file_extension": ".py",
   "mimetype": "text/x-python",
   "name": "python",
   "nbconvert_exporter": "python",
   "pygments_lexer": "ipython3",
   "version": "3.12.0"
  }
 },
 "nbformat": 4,
 "nbformat_minor": 2
}
